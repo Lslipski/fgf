{
 "cells": [
  {
   "cell_type": "markdown",
   "metadata": {},
   "source": [
    "# Pour Hower 2018 Wet Run Analysis"
   ]
  },
  {
   "cell_type": "markdown",
   "metadata": {},
   "source": [
    "### On September 14, 2018 Luke invited Emily, Emily, Lexa, Hilary, and Bennett over to listen to the 2018 power hour draft and give subjective ratings of each song along multiple dimensions. Below is an analysis of the data collected."
   ]
  },
  {
   "cell_type": "code",
   "execution_count": 1,
   "metadata": {
    "collapsed": true
   },
   "outputs": [
    {
     "name": "stderr",
     "output_type": "stream",
     "text": [
      "/home/lukie/anaconda3/lib/python3.6/site-packages/sklearn/cross_validation.py:41: DeprecationWarning: This module was deprecated in version 0.18 in favor of the model_selection module into which all the refactored classes and functions are moved. Also note that the interface of the new CV iterators are different from that of this module. This module will be removed in 0.20.\n",
      "  \"This module will be removed in 0.20.\", DeprecationWarning)\n",
      "/home/lukie/anaconda3/lib/python3.6/site-packages/statsmodels/compat/pandas.py:56: FutureWarning: The pandas.core.datetools module is deprecated and will be removed in a future version. Please use the pandas.tseries module instead.\n",
      "  from pandas.core import datetools\n"
     ]
    }
   ],
   "source": [
    "import numpy as np\n",
    "import pandas as pd\n",
    "import seaborn as sb\n",
    "import matplotlib.pyplot as plt\n",
    "import sklearn\n",
    "\n",
    "from pandas import Series, DataFrame\n",
    "from pylab import rcParams\n",
    "from sklearn import preprocessing\n",
    "from sklearn.linear_model import LogisticRegression\n",
    "from sklearn.cross_validation import train_test_split\n",
    "from sklearn import metrics \n",
    "from sklearn.metrics import classification_report\n",
    "import statsmodels.api as sm"
   ]
  },
  {
   "cell_type": "code",
   "execution_count": 2,
   "metadata": {
    "collapsed": true
   },
   "outputs": [],
   "source": [
    "%matplotlib inline\n",
    "rcParams['figure.figsize'] = 10, 8\n",
    "sb.set_style('whitegrid')"
   ]
  },
  {
   "cell_type": "code",
   "execution_count": 3,
   "metadata": {},
   "outputs": [
    {
     "data": {
      "text/html": [
       "<div>\n",
       "<style>\n",
       "    .dataframe thead tr:only-child th {\n",
       "        text-align: right;\n",
       "    }\n",
       "\n",
       "    .dataframe thead th {\n",
       "        text-align: left;\n",
       "    }\n",
       "\n",
       "    .dataframe tbody tr th {\n",
       "        vertical-align: top;\n",
       "    }\n",
       "</style>\n",
       "<table border=\"1\" class=\"dataframe\">\n",
       "  <thead>\n",
       "    <tr style=\"text-align: right;\">\n",
       "      <th></th>\n",
       "      <th>song_num</th>\n",
       "      <th>transition_in</th>\n",
       "      <th>slap</th>\n",
       "      <th>surprise</th>\n",
       "      <th>sound_qual</th>\n",
       "      <th>sing_along</th>\n",
       "      <th>keep</th>\n",
       "      <th>transition_out</th>\n",
       "    </tr>\n",
       "  </thead>\n",
       "  <tbody>\n",
       "    <tr>\n",
       "      <th>0</th>\n",
       "      <td>1.0</td>\n",
       "      <td>NaN</td>\n",
       "      <td>10.0</td>\n",
       "      <td>NaN</td>\n",
       "      <td>NaN</td>\n",
       "      <td>10.0</td>\n",
       "      <td>1.0</td>\n",
       "      <td>0.0</td>\n",
       "    </tr>\n",
       "    <tr>\n",
       "      <th>1</th>\n",
       "      <td>2.0</td>\n",
       "      <td>NaN</td>\n",
       "      <td>7.0</td>\n",
       "      <td>NaN</td>\n",
       "      <td>NaN</td>\n",
       "      <td>6.0</td>\n",
       "      <td>1.0</td>\n",
       "      <td>0.0</td>\n",
       "    </tr>\n",
       "    <tr>\n",
       "      <th>2</th>\n",
       "      <td>3.0</td>\n",
       "      <td>NaN</td>\n",
       "      <td>8.0</td>\n",
       "      <td>NaN</td>\n",
       "      <td>NaN</td>\n",
       "      <td>10.0</td>\n",
       "      <td>1.0</td>\n",
       "      <td>0.0</td>\n",
       "    </tr>\n",
       "    <tr>\n",
       "      <th>3</th>\n",
       "      <td>4.0</td>\n",
       "      <td>NaN</td>\n",
       "      <td>4.0</td>\n",
       "      <td>NaN</td>\n",
       "      <td>NaN</td>\n",
       "      <td>7.0</td>\n",
       "      <td>1.0</td>\n",
       "      <td>0.0</td>\n",
       "    </tr>\n",
       "    <tr>\n",
       "      <th>4</th>\n",
       "      <td>5.0</td>\n",
       "      <td>NaN</td>\n",
       "      <td>7.0</td>\n",
       "      <td>NaN</td>\n",
       "      <td>NaN</td>\n",
       "      <td>8.0</td>\n",
       "      <td>1.0</td>\n",
       "      <td>0.0</td>\n",
       "    </tr>\n",
       "  </tbody>\n",
       "</table>\n",
       "</div>"
      ],
      "text/plain": [
       "   song_num  transition_in  slap  surprise  sound_qual  sing_along  keep  \\\n",
       "0       1.0            NaN  10.0       NaN         NaN        10.0   1.0   \n",
       "1       2.0            NaN   7.0       NaN         NaN         6.0   1.0   \n",
       "2       3.0            NaN   8.0       NaN         NaN        10.0   1.0   \n",
       "3       4.0            NaN   4.0       NaN         NaN         7.0   1.0   \n",
       "4       5.0            NaN   7.0       NaN         NaN         8.0   1.0   \n",
       "\n",
       "   transition_out  \n",
       "0             0.0  \n",
       "1             0.0  \n",
       "2             0.0  \n",
       "3             0.0  \n",
       "4             0.0  "
      ]
     },
     "execution_count": 3,
     "metadata": {},
     "output_type": "execute_result"
    }
   ],
   "source": [
    "#load data into single dataset\n",
    "#create dataframe for each judge's csv\n",
    "columns = ['song_num','transition_in','slap','surprise','sound_qual','sing_along','keep','transition_out']\n",
    "drpizza = pd.read_csv('power_hour_analysis/drpizza.csv', names = columns, skiprows=1)\n",
    "benny = pd.read_csv('power_hour_analysis/benny.csv', names = columns, skiprows=1)\n",
    "hilary = pd.read_csv('power_hour_analysis/hilary.csv', names = columns, skiprows=1)\n",
    "emmyk = pd.read_csv('power_hour_analysis/emmyk.csv', names = columns, skiprows=1)\n",
    "lexa = pd.read_csv('power_hour_analysis/lexa.csv', names = columns, skiprows=1)\n",
    "emads = pd.read_csv('power_hour_analysis/emads.csv', names = columns, skiprows=1)\n",
    "\n",
    "#combine them into one dataframe\n",
    "judges = [drpizza,benny,hilary,emmyk,lexa,emads]\n",
    "df = pd.concat(judges)\n",
    "df.head()"
   ]
  },
  {
   "cell_type": "markdown",
   "metadata": {},
   "source": [
    "<b>Variable Descriptions:</b>\n",
    "\n",
    "<b>song number:</b> position of the song in the 60-song power hour <br>\n",
    "<b>transition in:</b> participant's subjective valence rating of the transition into this song from the last song<br>\n",
    "<b>slap:</b> participant's subjective rating to answer the question \"does this song fucking slap?\" or \"how hard does this song fucking slam?\" or \"how #hype does this song get me?\"<br>\n",
    "<b>surprise:</b> participant's subjective rating of how surprised they felt to hear the song come on. Most participants left this blank<br>\n",
    "<b>sound quality:</b> participant's subjective rating of how good or bad the sound quality of the song felt<br>\n",
    "<b>sing_along:</b> participant's subjective rating of how much they felt they could sing along to the song<br>\n",
    "<b>keep:</b> binary variable (1=keep) signifying whether the participant thought the song should be kept in the power hour or killed (read:removed)<br>\n",
    "<b>transition out:</b> same as transition in, but nobody filled this variable out"
   ]
  },
  {
   "cell_type": "markdown",
   "metadata": {},
   "source": [
    "### Frequency of Keep/Kill Variable\n",
    "We need to check to see if an overwhelming number of responses were kill because this could fuck up the estimate of our model intercept, which could in turn fuck up our predicted probabilities and compromise any predictions we want to make later."
   ]
  },
  {
   "cell_type": "code",
   "execution_count": 5,
   "metadata": {
    "scrolled": false
   },
   "outputs": [
    {
     "data": {
      "text/plain": [
       "<matplotlib.axes._subplots.AxesSubplot at 0x7f8f12ab3710>"
      ]
     },
     "execution_count": 5,
     "metadata": {},
     "output_type": "execute_result"
    },
    {
     "data": {
      "image/png": "[encoded data removed]",
      "text/plain": [
       "<Figure size 720x576 with 1 Axes>"
      ]
     },
     "metadata": {},
     "output_type": "display_data"
    }
   ],
   "source": [
    "df['keep'].value_counts()\n",
    "sb.countplot(x='keep',data=df, palette='hls')"
   ]
  },
  {
   "cell_type": "code",
   "execution_count": 6,
   "metadata": {},
   "outputs": [
    {
     "data": {
      "text/plain": [
       "1.0    251\n",
       "0.0    106\n",
       "Name: keep, dtype: int64"
      ]
     },
     "execution_count": 6,
     "metadata": {},
     "output_type": "execute_result"
    }
   ],
   "source": [
    "df['keep'].value_counts()"
   ]
  },
  {
   "cell_type": "markdown",
   "metadata": {},
   "source": [
    "### Lol\n",
    "so this is pretty unbalanced. We'll run as-is and then do a big funny correction later by creating synthetic kill examples and evening things up a bit. "
   ]
  },
  {
   "cell_type": "markdown",
   "metadata": {},
   "source": [
    "## Check for Missing Values\n",
    "Spoiler: there are a ton"
   ]
  },
  {
   "cell_type": "code",
   "execution_count": 8,
   "metadata": {},
   "outputs": [
    {
     "data": {
      "text/plain": [
       "song_num            1\n",
       "transition_in      78\n",
       "slap                6\n",
       "surprise          217\n",
       "sound_qual        132\n",
       "sing_along         19\n",
       "keep                4\n",
       "transition_out      1\n",
       "dtype: int64"
      ]
     },
     "execution_count": 8,
     "metadata": {},
     "output_type": "execute_result"
    }
   ],
   "source": [
    "df.isnull().sum()"
   ]
  },
  {
   "cell_type": "markdown",
   "metadata": {},
   "source": [
    "Nobody cared about transition in/out, surprise, or sound quality (most of the variables). So, do our values make any sense for slap and sing along?"
   ]
  },
  {
   "cell_type": "code",
   "execution_count": 9,
   "metadata": {},
   "outputs": [
    {
     "data": {
      "text/html": [
       "<div>\n",
       "<style>\n",
       "    .dataframe thead tr:only-child th {\n",
       "        text-align: right;\n",
       "    }\n",
       "\n",
       "    .dataframe thead th {\n",
       "        text-align: left;\n",
       "    }\n",
       "\n",
       "    .dataframe tbody tr th {\n",
       "        vertical-align: top;\n",
       "    }\n",
       "</style>\n",
       "<table border=\"1\" class=\"dataframe\">\n",
       "  <thead>\n",
       "    <tr style=\"text-align: right;\">\n",
       "      <th></th>\n",
       "      <th>song_num</th>\n",
       "      <th>transition_in</th>\n",
       "      <th>slap</th>\n",
       "      <th>surprise</th>\n",
       "      <th>sound_qual</th>\n",
       "      <th>sing_along</th>\n",
       "      <th>transition_out</th>\n",
       "    </tr>\n",
       "    <tr>\n",
       "      <th>keep</th>\n",
       "      <th></th>\n",
       "      <th></th>\n",
       "      <th></th>\n",
       "      <th></th>\n",
       "      <th></th>\n",
       "      <th></th>\n",
       "      <th></th>\n",
       "    </tr>\n",
       "  </thead>\n",
       "  <tbody>\n",
       "    <tr>\n",
       "      <th>0.0</th>\n",
       "      <td>30.509434</td>\n",
       "      <td>4.764706</td>\n",
       "      <td>3.980583</td>\n",
       "      <td>5.444444</td>\n",
       "      <td>7.360656</td>\n",
       "      <td>5.060000</td>\n",
       "      <td>5.132075</td>\n",
       "    </tr>\n",
       "    <tr>\n",
       "      <th>1.0</th>\n",
       "      <td>30.661355</td>\n",
       "      <td>6.670103</td>\n",
       "      <td>8.168675</td>\n",
       "      <td>6.797980</td>\n",
       "      <td>8.369048</td>\n",
       "      <td>8.413223</td>\n",
       "      <td>4.454183</td>\n",
       "    </tr>\n",
       "  </tbody>\n",
       "</table>\n",
       "</div>"
      ],
      "text/plain": [
       "       song_num  transition_in      slap  surprise  sound_qual  sing_along  \\\n",
       "keep                                                                         \n",
       "0.0   30.509434       4.764706  3.980583  5.444444    7.360656    5.060000   \n",
       "1.0   30.661355       6.670103  8.168675  6.797980    8.369048    8.413223   \n",
       "\n",
       "      transition_out  \n",
       "keep                  \n",
       "0.0         5.132075  \n",
       "1.0         4.454183  "
      ]
     },
     "execution_count": 9,
     "metadata": {},
     "output_type": "execute_result"
    }
   ],
   "source": [
    "df.groupby('keep').mean()"
   ]
  },
  {
   "cell_type": "markdown",
   "metadata": {},
   "source": [
    "It looks like ratings (1-10 Likert scale) for slap and sing_along (slap in particular) behave as expected. The mean ranking of how much a song fucking slaps was higher in the songs people wanted to keep."
   ]
  },
  {
   "cell_type": "markdown",
   "metadata": {},
   "source": [
    "### Let's just go ahead make this into a roughly hewn dataset without the empty variables"
   ]
  },
  {
   "cell_type": "code",
   "execution_count": 11,
   "metadata": {},
   "outputs": [
    {
     "data": {
      "text/html": [
       "<div>\n",
       "<style>\n",
       "    .dataframe thead tr:only-child th {\n",
       "        text-align: right;\n",
       "    }\n",
       "\n",
       "    .dataframe thead th {\n",
       "        text-align: left;\n",
       "    }\n",
       "\n",
       "    .dataframe tbody tr th {\n",
       "        vertical-align: top;\n",
       "    }\n",
       "</style>\n",
       "<table border=\"1\" class=\"dataframe\">\n",
       "  <thead>\n",
       "    <tr style=\"text-align: right;\">\n",
       "      <th></th>\n",
       "      <th>keep</th>\n",
       "      <th>slap</th>\n",
       "      <th>sing_along</th>\n",
       "      <th>song_num</th>\n",
       "    </tr>\n",
       "  </thead>\n",
       "  <tbody>\n",
       "    <tr>\n",
       "      <th>0</th>\n",
       "      <td>1.0</td>\n",
       "      <td>10.0</td>\n",
       "      <td>10.0</td>\n",
       "      <td>1.0</td>\n",
       "    </tr>\n",
       "    <tr>\n",
       "      <th>1</th>\n",
       "      <td>1.0</td>\n",
       "      <td>7.0</td>\n",
       "      <td>6.0</td>\n",
       "      <td>2.0</td>\n",
       "    </tr>\n",
       "    <tr>\n",
       "      <th>2</th>\n",
       "      <td>1.0</td>\n",
       "      <td>8.0</td>\n",
       "      <td>10.0</td>\n",
       "      <td>3.0</td>\n",
       "    </tr>\n",
       "    <tr>\n",
       "      <th>3</th>\n",
       "      <td>1.0</td>\n",
       "      <td>4.0</td>\n",
       "      <td>7.0</td>\n",
       "      <td>4.0</td>\n",
       "    </tr>\n",
       "    <tr>\n",
       "      <th>4</th>\n",
       "      <td>1.0</td>\n",
       "      <td>7.0</td>\n",
       "      <td>8.0</td>\n",
       "      <td>5.0</td>\n",
       "    </tr>\n",
       "  </tbody>\n",
       "</table>\n",
       "</div>"
      ],
      "text/plain": [
       "   keep  slap  sing_along  song_num\n",
       "0   1.0  10.0        10.0       1.0\n",
       "1   1.0   7.0         6.0       2.0\n",
       "2   1.0   8.0        10.0       3.0\n",
       "3   1.0   4.0         7.0       4.0\n",
       "4   1.0   7.0         8.0       5.0"
      ]
     },
     "execution_count": 11,
     "metadata": {},
     "output_type": "execute_result"
    }
   ],
   "source": [
    "df = df[['keep','slap','sing_along','song_num']]\n",
    "df.head()"
   ]
  },
  {
   "cell_type": "markdown",
   "metadata": {},
   "source": [
    "#### Impute some missing values\n",
    "We don't have many independent variables to work with here, so we're just gonna set missing values to the average value of that variable. This is a bad idea for a number of reasons not listed here."
   ]
  },
  {
   "cell_type": "code",
   "execution_count": 13,
   "metadata": {
    "collapsed": true
   },
   "outputs": [],
   "source": [
    "#impute mean for missing slap and sing_along\n",
    "df['slap'].fillna((df['slap'].mean()), inplace=True)\n",
    "df['sing_along'].fillna((df['sing_along'].mean()), inplace=True)"
   ]
  },
  {
   "cell_type": "code",
   "execution_count": 14,
   "metadata": {},
   "outputs": [
    {
     "data": {
      "text/plain": [
       "keep          4\n",
       "slap          0\n",
       "sing_along    0\n",
       "song_num      1\n",
       "dtype: int64"
      ]
     },
     "execution_count": 14,
     "metadata": {},
     "output_type": "execute_result"
    }
   ],
   "source": [
    "df.isnull().sum()"
   ]
  },
  {
   "cell_type": "code",
   "execution_count": 15,
   "metadata": {},
   "outputs": [
    {
     "data": {
      "text/html": [
       "<div>\n",
       "<style>\n",
       "    .dataframe thead tr:only-child th {\n",
       "        text-align: right;\n",
       "    }\n",
       "\n",
       "    .dataframe thead th {\n",
       "        text-align: left;\n",
       "    }\n",
       "\n",
       "    .dataframe tbody tr th {\n",
       "        vertical-align: top;\n",
       "    }\n",
       "</style>\n",
       "<table border=\"1\" class=\"dataframe\">\n",
       "  <thead>\n",
       "    <tr style=\"text-align: right;\">\n",
       "      <th></th>\n",
       "      <th>keep</th>\n",
       "      <th>slap</th>\n",
       "      <th>sing_along</th>\n",
       "      <th>song_num</th>\n",
       "    </tr>\n",
       "  </thead>\n",
       "  <tbody>\n",
       "    <tr>\n",
       "      <th>60</th>\n",
       "      <td>NaN</td>\n",
       "      <td>6.949296</td>\n",
       "      <td>7.432749</td>\n",
       "      <td>NaN</td>\n",
       "    </tr>\n",
       "  </tbody>\n",
       "</table>\n",
       "</div>"
      ],
      "text/plain": [
       "    keep      slap  sing_along  song_num\n",
       "60   NaN  6.949296    7.432749       NaN"
      ]
     },
     "execution_count": 15,
     "metadata": {},
     "output_type": "execute_result"
    }
   ],
   "source": [
    "# what is the deal with the row missing song_num?\n",
    "df.loc[df['song_num'].isnull()==True]"
   ]
  },
  {
   "cell_type": "code",
   "execution_count": 16,
   "metadata": {
    "collapsed": true
   },
   "outputs": [],
   "source": [
    "#get rid of that shit, I don't know why it's missing.\n",
    "df = df[df.song_num.notnull()]"
   ]
  },
  {
   "cell_type": "code",
   "execution_count": 17,
   "metadata": {},
   "outputs": [
    {
     "data": {
      "text/html": [
       "<div>\n",
       "<style>\n",
       "    .dataframe thead tr:only-child th {\n",
       "        text-align: right;\n",
       "    }\n",
       "\n",
       "    .dataframe thead th {\n",
       "        text-align: left;\n",
       "    }\n",
       "\n",
       "    .dataframe tbody tr th {\n",
       "        vertical-align: top;\n",
       "    }\n",
       "</style>\n",
       "<table border=\"1\" class=\"dataframe\">\n",
       "  <thead>\n",
       "    <tr style=\"text-align: right;\">\n",
       "      <th></th>\n",
       "      <th>keep</th>\n",
       "      <th>slap</th>\n",
       "      <th>sing_along</th>\n",
       "      <th>song_num</th>\n",
       "    </tr>\n",
       "  </thead>\n",
       "  <tbody>\n",
       "  </tbody>\n",
       "</table>\n",
       "</div>"
      ],
      "text/plain": [
       "Empty DataFrame\n",
       "Columns: [keep, slap, sing_along, song_num]\n",
       "Index: []"
      ]
     },
     "execution_count": 17,
     "metadata": {},
     "output_type": "execute_result"
    }
   ],
   "source": [
    "df.loc[df['song_num'].isnull()==True]"
   ]
  },
  {
   "cell_type": "markdown",
   "metadata": {},
   "source": [
    "### Let's Check out how horrendously our predictors are co-linear"
   ]
  },
  {
   "cell_type": "code",
   "execution_count": 18,
   "metadata": {},
   "outputs": [
    {
     "data": {
      "text/plain": [
       "<matplotlib.axes._subplots.AxesSubplot at 0x7f8f129ee4e0>"
      ]
     },
     "execution_count": 18,
     "metadata": {},
     "output_type": "execute_result"
    },
    {
     "data": {
      "image/png": "[encoded data removed]",
      "text/plain": [
       "<Figure size 720x576 with 2 Axes>"
      ]
     },
     "metadata": {},
     "output_type": "display_data"
    }
   ],
   "source": [
    "sb.heatmap(df.corr())"
   ]
  },
  {
   "cell_type": "markdown",
   "metadata": {},
   "source": [
    "Slap and sing_along are pretty correlated, and song_num isn't correlated with anything (obviously)"
   ]
  },
  {
   "cell_type": "code",
   "execution_count": 19,
   "metadata": {},
   "outputs": [
    {
     "name": "stdout",
     "output_type": "stream",
     "text": [
      "<class 'pandas.core.frame.DataFrame'>\n",
      "Int64Index: 360 entries, 0 to 59\n",
      "Data columns (total 4 columns):\n",
      "keep          357 non-null float64\n",
      "slap          360 non-null float64\n",
      "sing_along    360 non-null float64\n",
      "song_num      360 non-null float64\n",
      "dtypes: float64(4)\n",
      "memory usage: 14.1 KB\n"
     ]
    }
   ],
   "source": [
    "#The rule of thumb for logistic regression is what? like 50 records per feature? We've got 'plenty'.\n",
    "df.info()"
   ]
  },
  {
   "cell_type": "markdown",
   "metadata": {},
   "source": [
    "## Fitting the Logistic Regression Model\n",
    "We're going to fit the model 1.) with just slap 2.) with just sing_along and 3.) with both just for funsies. We'll then make some pretty dubious claims about the effect of these variables on the odds of a song being kept/killed. \n",
    "\n",
    "Then we'll use our model to decide the fate of the 3 songs that are missing the keep/kill outcome variable. Lol here we go."
   ]
  },
  {
   "cell_type": "code",
   "execution_count": 20,
   "metadata": {
    "collapsed": true
   },
   "outputs": [],
   "source": [
    "#create training sets of all records that aren't missing keep/kill\n",
    "x_train = df[['slap','sing_along','song_num']].loc[df['keep'].isnull() != True]\n",
    "y_train = df['keep'].loc[df['keep'].isnull() != True]\n",
    "\n",
    "#slap only\n",
    "x_train_slap = df[['slap']].loc[df['keep'].isnull() != True]\n",
    "#sing_along only\n",
    "x_train_sa = df[['sing_along']].loc[df['keep'].isnull() != True]\n",
    "\n",
    "\n",
    "#creating testing sets of 3 records that are missing keep/kill\n",
    "x_test = df[['slap','sing_along','song_num']].loc[df['keep'].isnull() != False]\n",
    "y_test = df['keep'].loc[df['keep'].isnull() != False]\n",
    "\n",
    "#slap only\n",
    "x_test_slap = df[['slap']].loc[df['keep'].isnull() != False]\n",
    "#sing_along only\n",
    "x_test_sa = df[['sing_along']].loc[df['keep'].isnull() != False]"
   ]
  },
  {
   "cell_type": "markdown",
   "metadata": {},
   "source": [
    "#### Slap Only Model"
   ]
  },
  {
   "cell_type": "code",
   "execution_count": 21,
   "metadata": {},
   "outputs": [
    {
     "name": "stdout",
     "output_type": "stream",
     "text": [
      "Optimization terminated successfully.\n",
      "         Current function value: 0.491767\n",
      "         Iterations 5\n",
      "                        Results: Logit\n",
      "===============================================================\n",
      "Model:              Logit            No. Iterations:   5.0000  \n",
      "Dependent Variable: keep             Pseudo R-squared: 0.191   \n",
      "Date:               2018-09-22 16:00 AIC:              353.1218\n",
      "No. Observations:   357              BIC:              356.9995\n",
      "Df Model:           0                Log-Likelihood:   -175.56 \n",
      "Df Residuals:       356              LL-Null:          -217.14 \n",
      "Converged:          1.0000           Scale:            1.0000  \n",
      "-----------------------------------------------------------------\n",
      "           Coef.    Std.Err.      z      P>|z|    [0.025   0.975]\n",
      "-----------------------------------------------------------------\n",
      "slap       0.1996     0.0197   10.1505   0.0000   0.1610   0.2381\n",
      "===============================================================\n",
      "\n"
     ]
    }
   ],
   "source": [
    "logit_model=sm.Logit(y_train,x_train_slap)\n",
    "result=logit_model.fit()\n",
    "print(result.summary2())"
   ]
  },
  {
   "cell_type": "markdown",
   "metadata": {},
   "source": [
    "#### Sing Along Only Model "
   ]
  },
  {
   "cell_type": "code",
   "execution_count": 22,
   "metadata": {},
   "outputs": [
    {
     "name": "stdout",
     "output_type": "stream",
     "text": [
      "Optimization terminated successfully.\n",
      "         Current function value: 0.532740\n",
      "         Iterations 5\n",
      "                        Results: Logit\n",
      "===============================================================\n",
      "Model:              Logit            No. Iterations:   5.0000  \n",
      "Dependent Variable: keep             Pseudo R-squared: 0.124   \n",
      "Date:               2018-09-22 16:01 AIC:              382.3762\n",
      "No. Observations:   357              BIC:              386.2539\n",
      "Df Model:           0                Log-Likelihood:   -190.19 \n",
      "Df Residuals:       356              LL-Null:          -217.14 \n",
      "Converged:          1.0000           Scale:            1.0000  \n",
      "----------------------------------------------------------------\n",
      "                Coef.   Std.Err.    z     P>|z|   [0.025  0.975]\n",
      "----------------------------------------------------------------\n",
      "sing_along      0.1602    0.0169  9.4829  0.0000  0.1271  0.1934\n",
      "===============================================================\n",
      "\n"
     ]
    }
   ],
   "source": [
    "logit_model=sm.Logit(y_train,x_train_sa)\n",
    "result=logit_model.fit()\n",
    "print(result.summary2())"
   ]
  },
  {
   "cell_type": "markdown",
   "metadata": {},
   "source": [
    "#### Combined Model "
   ]
  },
  {
   "cell_type": "code",
   "execution_count": 24,
   "metadata": {},
   "outputs": [
    {
     "name": "stdout",
     "output_type": "stream",
     "text": [
      "Optimization terminated successfully.\n",
      "         Current function value: 0.438342\n",
      "         Iterations 6\n",
      "                        Results: Logit\n",
      "===============================================================\n",
      "Model:              Logit            No. Iterations:   6.0000  \n",
      "Dependent Variable: keep             Pseudo R-squared: 0.279   \n",
      "Date:               2018-09-22 16:01 AIC:              318.9759\n",
      "No. Observations:   357              BIC:              330.6091\n",
      "Df Model:           2                Log-Likelihood:   -156.49 \n",
      "Df Residuals:       354              LL-Null:          -217.14 \n",
      "Converged:          1.0000           Scale:            1.0000  \n",
      "----------------------------------------------------------------\n",
      "             Coef.   Std.Err.     z     P>|z|    [0.025   0.975]\n",
      "----------------------------------------------------------------\n",
      "slap         0.4596    0.0703   6.5357  0.0000   0.3218   0.5974\n",
      "sing_along  -0.0666    0.0550  -1.2112  0.2258  -0.1744   0.0412\n",
      "song_num    -0.0408    0.0078  -5.2398  0.0000  -0.0560  -0.0255\n",
      "===============================================================\n",
      "\n"
     ]
    }
   ],
   "source": [
    "logit_model=sm.Logit(y_train,x_train)\n",
    "result=logit_model.fit()\n",
    "print(result.summary2())"
   ]
  },
  {
   "cell_type": "code",
   "execution_count": 25,
   "metadata": {},
   "outputs": [
    {
     "data": {
      "text/plain": [
       "<matplotlib.axes._subplots.AxesSubplot at 0x7f8f1294b6a0>"
      ]
     },
     "execution_count": 25,
     "metadata": {},
     "output_type": "execute_result"
    },
    {
     "data": {
      "image/png": "[encoded data removed]",
      "text/plain": [
       "<Figure size 720x576 with 1 Axes>"
      ]
     },
     "metadata": {},
     "output_type": "display_data"
    }
   ],
   "source": [
    "#seaborn gives easy and pretty graphics, so let's go ahead and show one, cuz that's what everybody wants\n",
    "#out of a logistic regression anyway.\n",
    "sb.regplot(x='slap', y='keep', data=df, logistic=True)"
   ]
  },
  {
   "cell_type": "markdown",
   "metadata": {},
   "source": [
    "## Let's use our combined slap + sing_along model to decide the fates of the 3 songs that someone neglected to keep/kill "
   ]
  },
  {
   "cell_type": "code",
   "execution_count": 36,
   "metadata": {},
   "outputs": [
    {
     "data": {
      "text/plain": [
       "45    0.481637\n",
       "0     0.958543\n",
       "2     0.981627\n",
       "dtype: float64"
      ]
     },
     "execution_count": 36,
     "metadata": {},
     "output_type": "execute_result"
    }
   ],
   "source": [
    "#use our model to calculate the predicted probabilites of keep/kill for the 3 records that \n",
    "#came without a keep/kill rating\n",
    "y_pred = result.predict(x_test)\n",
    "y_pred"
   ]
  },
  {
   "cell_type": "markdown",
   "metadata": {},
   "source": [
    "Note that the index shown here is 0-indexed, so these are actually songs 46, 1, and 3. Songs 1 and 3 are pretty clearly keepers. But what about song 46?"
   ]
  },
  {
   "cell_type": "code",
   "execution_count": 34,
   "metadata": {},
   "outputs": [
    {
     "data": {
      "text/html": [
       "<div>\n",
       "<style>\n",
       "    .dataframe thead tr:only-child th {\n",
       "        text-align: right;\n",
       "    }\n",
       "\n",
       "    .dataframe thead th {\n",
       "        text-align: left;\n",
       "    }\n",
       "\n",
       "    .dataframe tbody tr th {\n",
       "        vertical-align: top;\n",
       "    }\n",
       "</style>\n",
       "<table border=\"1\" class=\"dataframe\">\n",
       "  <thead>\n",
       "    <tr style=\"text-align: right;\">\n",
       "      <th></th>\n",
       "      <th>slap</th>\n",
       "      <th>sing_along</th>\n",
       "      <th>song_num</th>\n",
       "    </tr>\n",
       "  </thead>\n",
       "  <tbody>\n",
       "    <tr>\n",
       "      <th>45</th>\n",
       "      <td>5.0</td>\n",
       "      <td>7.432749</td>\n",
       "      <td>46.0</td>\n",
       "    </tr>\n",
       "  </tbody>\n",
       "</table>\n",
       "</div>"
      ],
      "text/plain": [
       "    slap  sing_along  song_num\n",
       "45   5.0    7.432749      46.0"
      ]
     },
     "execution_count": 34,
     "metadata": {},
     "output_type": "execute_result"
    }
   ],
   "source": [
    "x_test.loc[x_test['song_num']==46]"
   ]
  },
  {
   "cell_type": "markdown",
   "metadata": {},
   "source": [
    "So the person who forgot to decide whether or not to keep/kill this song also didn't rate it on sing_along, but gave it a slap score of 5. That's rough. Say goodbye to <b>Raise Your Glass</b> by <b>P!nk.</b> Jokes on you all though cuz I'm just gonna replace this with another P!nk song."
   ]
  },
  {
   "cell_type": "markdown",
   "metadata": {},
   "source": [
    "## The Culling "
   ]
  },
  {
   "cell_type": "markdown",
   "metadata": {},
   "source": [
    "In addition to This is America, we're going to take the bottom 10 rated songs, put them in a blender, eat them, and replace their spots in the power hour by 10 brand new songs. And I don't mean the rock band from Long Island, NY. But also, maybe I do.\n",
    "\n",
    "We could just take the songs ranked with the lowest mean slappiness, but we already have this model, so let's take the songs with the lowest mean predicted keep probability, by running the model on the very data that made it!!! #WestWorld"
   ]
  },
  {
   "cell_type": "code",
   "execution_count": 39,
   "metadata": {},
   "outputs": [],
   "source": [
    "x_murder = df[['slap','sing_along','song_num']]\n",
    "y_murder = result.predict(x_murder)\n",
    "x_murder['predicted_prob'] = y_murder"
   ]
  },
  {
   "cell_type": "code",
   "execution_count": 53,
   "metadata": {},
   "outputs": [],
   "source": [
    "murder_means = x_murder[['song_num','predicted_prob']].groupby('song_num').mean()"
   ]
  },
  {
   "cell_type": "code",
   "execution_count": 55,
   "metadata": {},
   "outputs": [
    {
     "data": {
      "text/html": [
       "<div>\n",
       "<style>\n",
       "    .dataframe thead tr:only-child th {\n",
       "        text-align: right;\n",
       "    }\n",
       "\n",
       "    .dataframe thead th {\n",
       "        text-align: left;\n",
       "    }\n",
       "\n",
       "    .dataframe tbody tr th {\n",
       "        vertical-align: top;\n",
       "    }\n",
       "</style>\n",
       "<table border=\"1\" class=\"dataframe\">\n",
       "  <thead>\n",
       "    <tr style=\"text-align: right;\">\n",
       "      <th></th>\n",
       "      <th>predicted_prob</th>\n",
       "    </tr>\n",
       "    <tr>\n",
       "      <th>song_num</th>\n",
       "      <th></th>\n",
       "    </tr>\n",
       "  </thead>\n",
       "  <tbody>\n",
       "    <tr>\n",
       "      <th>53.0</th>\n",
       "      <td>0.299541</td>\n",
       "    </tr>\n",
       "    <tr>\n",
       "      <th>52.0</th>\n",
       "      <td>0.313324</td>\n",
       "    </tr>\n",
       "    <tr>\n",
       "      <th>27.0</th>\n",
       "      <td>0.317783</td>\n",
       "    </tr>\n",
       "    <tr>\n",
       "      <th>28.0</th>\n",
       "      <td>0.421666</td>\n",
       "    </tr>\n",
       "    <tr>\n",
       "      <th>57.0</th>\n",
       "      <td>0.525431</td>\n",
       "    </tr>\n",
       "    <tr>\n",
       "      <th>38.0</th>\n",
       "      <td>0.525721</td>\n",
       "    </tr>\n",
       "    <tr>\n",
       "      <th>24.0</th>\n",
       "      <td>0.581567</td>\n",
       "    </tr>\n",
       "    <tr>\n",
       "      <th>43.0</th>\n",
       "      <td>0.587261</td>\n",
       "    </tr>\n",
       "    <tr>\n",
       "      <th>45.0</th>\n",
       "      <td>0.601493</td>\n",
       "    </tr>\n",
       "    <tr>\n",
       "      <th>56.0</th>\n",
       "      <td>0.622174</td>\n",
       "    </tr>\n",
       "  </tbody>\n",
       "</table>\n",
       "</div>"
      ],
      "text/plain": [
       "          predicted_prob\n",
       "song_num                \n",
       "53.0            0.299541\n",
       "52.0            0.313324\n",
       "27.0            0.317783\n",
       "28.0            0.421666\n",
       "57.0            0.525431\n",
       "38.0            0.525721\n",
       "24.0            0.581567\n",
       "43.0            0.587261\n",
       "45.0            0.601493\n",
       "56.0            0.622174"
      ]
     },
     "execution_count": 55,
     "metadata": {},
     "output_type": "execute_result"
    }
   ],
   "source": [
    "murder_means.nsmallest(10, 'predicted_prob')"
   ]
  },
  {
   "cell_type": "markdown",
   "metadata": {},
   "source": [
    "<b>Kill List:</b><br>\n",
    "Song 53: <b>Graduation</b> by <b>Vitamin C</b><br>\n",
    "Song 52: <b>Natural Woman</b> by <b>Aretha Franklin</b><br>\n",
    "Song 27: <b>Truly, Madly, Deepy</b> by <b>Savage Garden</b><br>\n",
    "Song 28: <b>Cruise (Remix ft. Nelly)</b> by <b>Florida Georgia line</b><br>\n",
    "Song 57: <b>Defying Gravity</b> by <b>Idina Menzel and Kristin Chenoweth</b><br>\n",
    "Song 38: <b>Back Here</b> by <b>BBMak</b><br>\n",
    "Song 24: <b>You're Still the One</b> by <b>Shania Twain</b><br>\n",
    "Song 43: <b>Sit Still, Look Pretty</b> by <b>Daya</b><br>\n",
    "Song 45: <b>This is America</b> by <b>Childish Gambino</b><br>\n",
    "Song 56: <b>Dirty Pop</b> by <b>NSYNC</b>"
   ]
  }
 ],
 "metadata": {
  "kernelspec": {
   "display_name": "Python 3",
   "language": "python",
   "name": "python3"
  },
  "language_info": {
   "codemirror_mode": {
    "name": "ipython",
    "version": 3
   },
   "file_extension": ".py",
   "mimetype": "text/x-python",
   "name": "python",
   "nbconvert_exporter": "python",
   "pygments_lexer": "ipython3",
   "version": "3.6.5"
  }
 },
 "nbformat": 4,
 "nbformat_minor": 2
}
